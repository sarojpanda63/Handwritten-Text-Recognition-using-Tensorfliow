{
 "cells": [
  {
   "cell_type": "code",
   "execution_count": 1,
   "metadata": {},
   "outputs": [
    {
     "name": "stderr",
     "output_type": "stream",
     "text": [
      "Using TensorFlow backend.\n"
     ]
    }
   ],
   "source": [
    "import random\n",
    "import numpy as np\n",
    "import cv2\n",
    "import matplotlib.pyplot as plt\n",
    "import sys\n",
    "import argparse\n",
    "import editdistance\n",
    "from DataLoader import DataLoader, Batch\n",
    "from Model import Model, DecoderType\n",
    "from SamplePreprocessor import preprocess\n",
    "class FilePaths:\n",
    "    fnCharList = 'model/charList.txt'\n",
    "    fnAccuracy = 'model/accuracy.txt'\n",
    "    fnTrain = 'data/'\n",
    "    fnInfer = 'data/test.png'\n",
    "    fnCorpus = 'data/corpus.txt'"
   ]
  },
  {
   "cell_type": "code",
   "execution_count": 2,
   "metadata": {},
   "outputs": [
    {
     "name": "stderr",
     "output_type": "stream",
     "text": [
      "WARNING: Logging before flag parsing goes to stderr.\n",
      "W0602 18:34:37.744831  7484 module_wrapper.py:139] From C:\\Users\\user\\HandwrittenTextRecognizationUsingTensorflow\\Model.py:33: The name tf.placeholder is deprecated. Please use tf.compat.v1.placeholder instead.\n",
      "\n",
      "W0602 18:34:37.764832  7484 module_wrapper.py:139] From C:\\Users\\user\\HandwrittenTextRecognizationUsingTensorflow\\Model.py:67: The name tf.truncated_normal is deprecated. Please use tf.random.truncated_normal instead.\n",
      "\n",
      "W0602 18:34:37.788833  7484 deprecation.py:323] From C:\\Users\\user\\HandwrittenTextRecognizationUsingTensorflow\\Model.py:69: batch_normalization (from tensorflow.python.layers.normalization) is deprecated and will be removed in a future version.\n",
      "Instructions for updating:\n",
      "Use keras.layers.BatchNormalization instead.  In particular, `tf.control_dependencies(tf.GraphKeys.UPDATE_OPS)` should not be used (consult the `tf.keras.layers.batch_normalization` documentation).\n",
      "W0602 18:34:37.797834  7484 deprecation.py:323] From c:\\users\\user\\anaconda3\\envs\\venv\\lib\\site-packages\\tensorflow_core\\python\\layers\\normalization.py:327: Layer.apply (from tensorflow.python.keras.engine.base_layer) is deprecated and will be removed in a future version.\n",
      "Instructions for updating:\n",
      "Please use `layer.__call__` method instead.\n",
      "W0602 18:34:37.919841  7484 module_wrapper.py:139] From C:\\Users\\user\\HandwrittenTextRecognizationUsingTensorflow\\Model.py:71: The name tf.nn.max_pool is deprecated. Please use tf.nn.max_pool2d instead.\n",
      "\n",
      "W0602 18:34:38.296862  7484 lazy_loader.py:50] \n",
      "The TensorFlow contrib module will not be included in TensorFlow 2.0.\n",
      "For more information, please see:\n",
      "  * https://github.com/tensorflow/community/blob/master/rfcs/20180907-contrib-sunset.md\n",
      "  * https://github.com/tensorflow/addons\n",
      "  * https://github.com/tensorflow/io (for I/O related ops)\n",
      "If you depend on functionality not listed there, please file an issue.\n",
      "\n",
      "W0602 18:34:39.617938  7484 deprecation.py:323] From C:\\Users\\user\\HandwrittenTextRecognizationUsingTensorflow\\Model.py:82: LSTMCell.__init__ (from tensorflow.python.ops.rnn_cell_impl) is deprecated and will be removed in a future version.\n",
      "Instructions for updating:\n",
      "This class is equivalent as tf.keras.layers.LSTMCell, and will be replaced by that in Tensorflow 2.0.\n",
      "W0602 18:34:39.620938  7484 deprecation.py:323] From C:\\Users\\user\\HandwrittenTextRecognizationUsingTensorflow\\Model.py:85: MultiRNNCell.__init__ (from tensorflow.python.ops.rnn_cell_impl) is deprecated and will be removed in a future version.\n",
      "Instructions for updating:\n",
      "This class is equivalent as tf.keras.layers.StackedRNNCells, and will be replaced by that in Tensorflow 2.0.\n",
      "W0602 18:34:39.622938  7484 deprecation.py:323] From C:\\Users\\user\\HandwrittenTextRecognizationUsingTensorflow\\Model.py:89: bidirectional_dynamic_rnn (from tensorflow.python.ops.rnn) is deprecated and will be removed in a future version.\n",
      "Instructions for updating:\n",
      "Please use `keras.layers.Bidirectional(keras.layers.RNN(cell))`, which is equivalent to this API\n",
      "W0602 18:34:39.625938  7484 deprecation.py:323] From c:\\users\\user\\anaconda3\\envs\\venv\\lib\\site-packages\\tensorflow_core\\python\\ops\\rnn.py:464: dynamic_rnn (from tensorflow.python.ops.rnn) is deprecated and will be removed in a future version.\n",
      "Instructions for updating:\n",
      "Please use `keras.layers.RNN(cell)`, which is equivalent to this API\n",
      "W0602 18:34:39.787948  7484 deprecation.py:323] From c:\\users\\user\\anaconda3\\envs\\venv\\lib\\site-packages\\tensorflow_core\\python\\ops\\rnn_cell_impl.py:958: Layer.add_variable (from tensorflow.python.keras.engine.base_layer) is deprecated and will be removed in a future version.\n",
      "Instructions for updating:\n",
      "Please use `layer.add_weight` method instead.\n",
      "W0602 18:34:39.806949  7484 deprecation.py:506] From c:\\users\\user\\anaconda3\\envs\\venv\\lib\\site-packages\\tensorflow_core\\python\\ops\\rnn_cell_impl.py:962: calling Zeros.__init__ (from tensorflow.python.ops.init_ops) with dtype is deprecated and will be removed in a future version.\n",
      "Instructions for updating:\n",
      "Call initializer instance with the dtype argument instead of passing it to the constructor\n",
      "W0602 18:34:40.161969  7484 module_wrapper.py:139] From C:\\Users\\user\\HandwrittenTextRecognizationUsingTensorflow\\Model.py:109: The name tf.nn.ctc_loss is deprecated. Please use tf.compat.v1.nn.ctc_loss instead.\n",
      "\n",
      "W0602 18:34:40.171970  7484 module_wrapper.py:139] From C:\\Users\\user\\HandwrittenTextRecognizationUsingTensorflow\\Model.py:46: The name tf.get_collection is deprecated. Please use tf.compat.v1.get_collection instead.\n",
      "\n",
      "W0602 18:34:40.175970  7484 module_wrapper.py:139] From C:\\Users\\user\\HandwrittenTextRecognizationUsingTensorflow\\Model.py:46: The name tf.GraphKeys is deprecated. Please use tf.compat.v1.GraphKeys instead.\n",
      "\n",
      "W0602 18:34:40.178970  7484 module_wrapper.py:139] From C:\\Users\\user\\HandwrittenTextRecognizationUsingTensorflow\\Model.py:48: The name tf.train.RMSPropOptimizer is deprecated. Please use tf.compat.v1.train.RMSPropOptimizer instead.\n",
      "\n",
      "W0602 18:34:42.926127  7484 deprecation.py:506] From c:\\users\\user\\anaconda3\\envs\\venv\\lib\\site-packages\\tensorflow_core\\python\\training\\rmsprop.py:119: calling Ones.__init__ (from tensorflow.python.ops.init_ops) with dtype is deprecated and will be removed in a future version.\n",
      "Instructions for updating:\n",
      "Call initializer instance with the dtype argument instead of passing it to the constructor\n",
      "W0602 18:34:43.188142  7484 module_wrapper.py:139] From C:\\Users\\user\\HandwrittenTextRecognizationUsingTensorflow\\Model.py:138: The name tf.Session is deprecated. Please use tf.compat.v1.Session instead.\n",
      "\n"
     ]
    },
    {
     "name": "stdout",
     "output_type": "stream",
     "text": [
      "Python: 3.7.6 (default, Jan  8 2020, 20:23:39) [MSC v.1916 64 bit (AMD64)]\n",
      "Tensorflow: 1.15.0\n"
     ]
    },
    {
     "name": "stderr",
     "output_type": "stream",
     "text": [
      "W0602 18:34:44.419212  7484 module_wrapper.py:139] From C:\\Users\\user\\HandwrittenTextRecognizationUsingTensorflow\\Model.py:140: The name tf.train.Saver is deprecated. Please use tf.compat.v1.train.Saver instead.\n",
      "\n"
     ]
    },
    {
     "name": "stdout",
     "output_type": "stream",
     "text": [
      "Init with stored values from model/snapshot-38\n"
     ]
    }
   ],
   "source": [
    "decoderType = DecoderType.BeamSearch\n",
    "loader = DataLoader(FilePaths.fnTrain, Model.batchSize, Model.imgSize, Model.maxTextLen)\n",
    "open(FilePaths.fnCharList, 'w').write(str().join(loader.charList))\n",
    "open(FilePaths.fnCorpus, 'w').write(str(' ').join(loader.trainWords + loader.validationWords))\n",
    "model = Model(loader.charList, decoderType)"
   ]
  },
  {
   "cell_type": "code",
   "execution_count": null,
   "metadata": {},
   "outputs": [],
   "source": [
    "from main import infer\n",
    "infer(model, FilePaths.fnInfer)"
   ]
  }
 ],
 "metadata": {
  "kernelspec": {
   "display_name": "Python 3",
   "language": "python",
   "name": "python3"
  },
  "language_info": {
   "codemirror_mode": {
    "name": "ipython",
    "version": 3
   },
   "file_extension": ".py",
   "mimetype": "text/x-python",
   "name": "python",
   "nbconvert_exporter": "python",
   "pygments_lexer": "ipython3",
   "version": "3.7.6"
  }
 },
 "nbformat": 4,
 "nbformat_minor": 4
}
